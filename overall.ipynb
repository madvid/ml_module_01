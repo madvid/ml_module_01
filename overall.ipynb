{
 "cells": [
  {
   "cell_type": "code",
   "execution_count": 2,
   "id": "474a64d3-2ea6-4416-a642-e8aa075d0d12",
   "metadata": {},
   "outputs": [
    {
     "data": {
      "text/plain": [
       "<matplotlib.pyplot._IonContext at 0x11c2f4cd0>"
      ]
     },
     "execution_count": 2,
     "metadata": {},
     "output_type": "execute_result"
    }
   ],
   "source": [
    "import numpy as np\n",
    "import matplotlib.pyplot as plt\n",
    "plt.ion()"
   ]
  },
  {
   "cell_type": "markdown",
   "id": "341cf18a",
   "metadata": {},
   "source": [
    "# Exercise 00: Linear Gradient - Iterative Version"
   ]
  },
  {
   "cell_type": "code",
   "execution_count": 2,
   "id": "8379dfec",
   "metadata": {},
   "outputs": [
    {
     "name": "stdout",
     "output_type": "stream",
     "text": [
      "[[ -19.0342574 ]\n",
      " [-586.66875564]]\n",
      "[[  -57.86823748]\n",
      " [-2230.12297889]]\n"
     ]
    }
   ],
   "source": [
    "import numpy as np\n",
    "from ex00.gradient import simple_gradient\n",
    "\n",
    "\n",
    "x = np.array([[12.4956442],[ 21.5007972],[ 31.5527382],[ 48.9145838],[ 57.5088733]])\n",
    "y = np.array([[37.4013816],[ 36.1473236],[ 45.7655287],[ 46.6793434],[ 59.5585554]])\n",
    "\n",
    "# Example 0:\n",
    "theta1 = np.array([[2],[ 0.7]])\n",
    "res = simple_gradient(x, y, theta1)\n",
    "# Output:\n",
    "#array([[-19.0342574],[],[-586.66875564])\n",
    "print(res)\n",
    "\n",
    "# Example 1:\n",
    "theta2 = np.array([[1],[ -0.4]])\n",
    "res = simple_gradient(x, y, theta2)\n",
    "# Output:\n",
    "#array([[-57.86823748],[-2230.12297889]])\n",
    "print(res)"
   ]
  },
  {
   "cell_type": "code",
   "execution_count": null,
   "id": "aecce2b2",
   "metadata": {},
   "outputs": [],
   "source": []
  },
  {
   "cell_type": "markdown",
   "id": "c48bfd0d",
   "metadata": {},
   "source": [
    "# Exercise 01: Linear Gradient - Vectorized Version"
   ]
  },
  {
   "cell_type": "code",
   "execution_count": 2,
   "id": "73b8b235",
   "metadata": {},
   "outputs": [
    {
     "name": "stdout",
     "output_type": "stream",
     "text": [
      "[[ -19.0342574 ]\n",
      " [-586.66875564]]\n",
      "[[  -57.86823748]\n",
      " [-2230.12297889]]\n"
     ]
    }
   ],
   "source": [
    "import numpy as np\n",
    "from ex01.vec_gradient import gradient\n",
    "\n",
    "\n",
    "x = np.array([[12.4956442],[ 21.5007972],[ 31.5527382],[ 48.9145838],[ 57.5088733]])\n",
    "y = np.array([[37.4013816],[ 36.1473236],[ 45.7655287],[ 46.6793434],[ 59.5585554]])\n",
    "\n",
    "# Example 0:\n",
    "theta1 = np.array([[2],[ 0.7]])\n",
    "res = gradient(x, y, theta1)\n",
    "# Output:\n",
    "#array([[-19.0342574],[],[-586.66875564])\n",
    "print(res)\n",
    "\n",
    "# Example 1:\n",
    "theta2 = np.array([[1],[ -0.4]])\n",
    "res = gradient(x, y, theta2)\n",
    "# Output:\n",
    "#array([[-57.86823748],[-2230.12297889]])\n",
    "print(res)"
   ]
  },
  {
   "cell_type": "markdown",
   "id": "63c08b64",
   "metadata": {},
   "source": [
    "# Exercise 02: Gradient Descent"
   ]
  },
  {
   "cell_type": "code",
   "execution_count": 1,
   "id": "ad1e67c9",
   "metadata": {},
   "outputs": [
    {
     "name": "stdout",
     "output_type": "stream",
     "text": [
      "## Example 0:\n",
      " theta1 = \n",
      " [[1.40709384]\n",
      " [1.1150909 ]]\n",
      "\n",
      "## Example 1:\n",
      " predicion (predict_(x, theta1)) = \n",
      " [[15.34087293]\n",
      " [25.38243706]\n",
      " [36.59126497]\n",
      " [55.95130094]\n",
      " [65.53471493]]\n"
     ]
    }
   ],
   "source": [
    "import numpy as np\n",
    "from ex02.fit import fit_\n",
    "from utils.prediction import predict_\n",
    "\n",
    "x = np.array([[12.4956442], [21.5007972], [31.5527382], [48.9145838], [57.5088733]])\n",
    "y = np.array([[37.4013816], [36.1473236], [45.7655287], [46.6793434], [59.5585554]])\n",
    "theta = np.array([[1],[ 1]])\n",
    "\n",
    "# Example 0:\n",
    "theta1 = fit_(x, y, theta, alpha=5e-6, max_iter=15000)\n",
    "print(\"## Example 0:\\n theta1 = \\n\", theta1)\n",
    "# Output:\n",
    "#array([[1.40709365],\n",
    "#[1.1150909 ]])\n",
    "\n",
    "\n",
    "# Example 1:\n",
    "pred = predict_(x, theta1)\n",
    "print(\"\\n## Example 1:\\n predicion (predict_(x, theta1)) = \\n\", pred)\n",
    "# Output:\n",
    "#array([[15.3408728 ],\n",
    "#[25.38243697],\n",
    "#[36.59126492],\n",
    "#[55.95130097],\n",
    "#[65.53471499]])"
   ]
  },
  {
   "cell_type": "code",
   "execution_count": null,
   "id": "642550bc",
   "metadata": {},
   "outputs": [],
   "source": []
  },
  {
   "cell_type": "markdown",
   "id": "1780531e",
   "metadata": {},
   "source": [
    "# Exercise 03: Linear Regression with Class"
   ]
  },
  {
   "cell_type": "code",
   "execution_count": 1,
   "id": "97b22ea1",
   "metadata": {},
   "outputs": [
    {
     "name": "stdout",
     "output_type": "stream",
     "text": [
      "### Example 0.0:\n",
      " lr1.predict_(x):\n",
      " [[10.74695094]\n",
      " [17.05055804]\n",
      " [24.08691674]\n",
      " [36.24020866]\n",
      " [42.25621131]]\n",
      "\n",
      "### Example 0.1:\n",
      " lr1.loss_elem_(lr1.predict_(x),y):\n",
      " [[710.45867381]\n",
      " [364.68645485]\n",
      " [469.96221651]\n",
      " [108.97553412]\n",
      " [299.37111101]]\n",
      "\n",
      "### Example 0.2:\n",
      " lr1.loss_(lr1.predict_(x),y):\n",
      " 195.34539903032385\n",
      "\n",
      "### Example 1.0:\n",
      " lr2.thetas:\n",
      " [[1.40709365]\n",
      " [1.1150909 ]]\n",
      "\n",
      "### Example 1.1:\n",
      " lr2.predict_(x):\n",
      " [[15.3408728 ]\n",
      " [25.38243697]\n",
      " [36.59126492]\n",
      " [55.95130097]\n",
      " [65.53471499]]\n"
     ]
    },
    {
     "data": {
      "text/plain": [
       "80.83996294128525"
      ]
     },
     "execution_count": 1,
     "metadata": {},
     "output_type": "execute_result"
    }
   ],
   "source": [
    "import numpy as np\n",
    "from ex03.my_linear_regression import MyLinearRegression as MyLR\n",
    "\n",
    "x = np.array([[12.4956442], [21.5007972], [31.5527382], [48.9145838], [57.5088733]])\n",
    "y = np.array([[37.4013816], [36.1473236], [45.7655287], [46.6793434], [59.5585554]])\n",
    "lr1 = MyLR([2, 0.7])\n",
    "\n",
    "# Example 0.0:\n",
    "pred = lr1.predict_(x)\n",
    "# Output:\n",
    "#array([[10.74695094],\n",
    "#[17.05055804],\n",
    "#[24.08691674],\n",
    "#[36.24020866],\n",
    "#[42.25621131]])\n",
    "print(\"### Example 0.0:\\n\", \"lr1.predict_(x):\\n\", pred)\n",
    "\n",
    "# Example 0.1:\n",
    "loss_e = lr1.loss_elem_(lr1.predict_(x),y)\n",
    "# Output:\n",
    "#array([[710.45867381],\n",
    "#[364.68645485],\n",
    "#[469.96221651],\n",
    "#[108.97553412],\n",
    "#[299.37111101]])\n",
    "print(\"\\n### Example 0.1:\\n\", \"lr1.loss_elem_(lr1.predict_(x),y):\\n\", loss_e)\n",
    "\n",
    "# Example 0.2:\n",
    "loss = lr1.loss_(lr1.predict_(x),y)\n",
    "# Output:\n",
    "#195.34539903032385\n",
    "print(\"\\n### Example 0.2:\\n\", \"lr1.loss_(lr1.predict_(x),y):\\n\", loss)\n",
    "\n",
    "# Example 1.0:\n",
    "lr2 = MyLR([1, 1], 5e-8, 1500000)\n",
    "lr2.fit_(x, y)\n",
    "t2 = lr2.thetas\n",
    "# Output:\n",
    "#array([[1.40709365],\n",
    "#[1.1150909 ]])\n",
    "print(\"\\n### Example 1.0:\\n\", \"lr2.thetas:\\n\", t2)\n",
    "\n",
    "# Example 1.1:\n",
    "pred = lr2.predict_(x)\n",
    "# Output:\n",
    "#array([[15.3408728 ],\n",
    "#[25.38243697],\n",
    "#[36.59126492],\n",
    "#[55.95130097],\n",
    "#[65.53471499]])\n",
    "print(\"\\n### Example 1.1:\\n\", \"lr2.predict_(x):\\n\", pred)\n",
    "\n",
    "# Example 1.2:\n",
    "MyLR.loss_elem_(lr2.predict_(x),y)\n",
    "# Output:\n",
    "#array([[486.66604863],\n",
    "#[115.88278416],\n",
    "#[ 84.16711596],\n",
    "#[ 85.96919719],\n",
    "#[ 35.71448348]])\n",
    "\n",
    "\n",
    "# Example 1.3:\n",
    "MyLR.loss_(lr2.predict_(x),y)\n",
    "# Output:\n",
    "#80.83996294128525"
   ]
  },
  {
   "cell_type": "code",
   "execution_count": null,
   "id": "784bff71",
   "metadata": {},
   "outputs": [],
   "source": []
  },
  {
   "cell_type": "markdown",
   "id": "71d89489",
   "metadata": {},
   "source": [
    "# Exercise 04: Practicing Linear Regression"
   ]
  },
  {
   "cell_type": "code",
   "execution_count": null,
   "id": "98a91efa",
   "metadata": {},
   "outputs": [],
   "source": [
    "from sklearn.metrics import mean_squared_error\n",
    "from pandas import read_csv\n",
    "from ex03.my_linear_regression import MyLinearRegression as MyLR\n",
    "\n",
    "data = pd.read_csv(\"ex04/are_blue_pills_magics.csv\")\n",
    "Xpill = np.array(data[\"Micrograms\"]).reshape(-1,1)\n",
    "Yscore = np.array(data[\"Score\"]).reshape(-1,1)\n",
    "# Example 1:\n",
    "linear_model1 = MyLR(np.array([[89.0], [-8]]))\n",
    "Y_model1 = linear_model1.predict_(Xpill)\n",
    "print(linear_model1.mse_(Yscore, Y_model1))\n",
    "print(mean_squared_error(Yscore, Y_model1))\n",
    "# Output:\n",
    "57.60304285714282\n",
    "57.60304285714282\n",
    "# Example 2:\n",
    "linear_model2 = MyLR(np.array([[89.0], [-6]]))\n",
    "Y_model2 = linear_model2.predict_(Xpill)\n",
    "print(linear_model2.mse_(Yscore, Y_model2))\n",
    "print(mean_squared_error(Yscore, Y_model2))\n",
    "# Output:\n",
    "232.16344285714285\n",
    "232.16344285714285"
   ]
  },
  {
   "cell_type": "code",
   "execution_count": null,
   "id": "75866db4",
   "metadata": {},
   "outputs": [],
   "source": []
  },
  {
   "cell_type": "markdown",
   "id": "6344b405",
   "metadata": {},
   "source": [
    "# Exercise 05: Normalization I: Z-score Standardization"
   ]
  },
  {
   "cell_type": "code",
   "execution_count": null,
   "id": "68bd938f",
   "metadata": {},
   "outputs": [],
   "source": [
    "# Example 1:\n",
    "X = numpy.array([[0],[ 15],[ -9],[ 7],[ 12],[ 3],[ -21]])\n",
    "zscore(X)\n",
    "# Output:\n",
    "array([-0.08620324, 1.2068453 , -0.86203236, 0.51721942, 0.94823559,\n",
    "0.17240647, -1.89647119])\n",
    "# Example 2:\n",
    "Y = numpy.array([[2],[ 14],[ -13],[ 5],[ 12],[ 4],[ -19]])\n",
    "zscore(Y)\n",
    "# Output:\n",
    "array([ 0.11267619, 1.16432067, -1.20187941, 0.37558731, 0.98904659,\n",
    "0.28795027, -1.72770165])"
   ]
  },
  {
   "cell_type": "code",
   "execution_count": null,
   "id": "bca02f87",
   "metadata": {},
   "outputs": [],
   "source": []
  },
  {
   "cell_type": "markdown",
   "id": "d8b31bb0",
   "metadata": {},
   "source": [
    "# Exercise 06: Normalization II: Min-Max Standardization"
   ]
  },
  {
   "cell_type": "code",
   "execution_count": null,
   "id": "047971a0",
   "metadata": {},
   "outputs": [],
   "source": [
    "# Example 1:\n",
    "X = np.array([[0],[ 15],[ -9],[ 7],[ 12],[ 3],[ -21]])\n",
    "minmax(X)\n",
    "# Output:\n",
    "array([0.58333333, 1., 0.33333333, 0.77777778, 0.91666667,\n",
    "0.66666667, 0.])\n",
    "# Example 2:\n",
    "Y = np.array([[2],[ 14],[ -13],[ 5],[ 12],[ 4],[ -19]])\n",
    "minmax(Y)\n",
    "# Output:\n",
    "array([0.63636364, 1., 0.18181818, 0.72727273, 0.93939394,\n",
    "0.6969697 , 0.]"
   ]
  },
  {
   "cell_type": "code",
   "execution_count": null,
   "id": "90d9e9cc",
   "metadata": {},
   "outputs": [],
   "source": []
  }
 ],
 "metadata": {
  "kernelspec": {
   "display_name": "Python 3 (ipykernel)",
   "language": "python",
   "name": "python3"
  },
  "language_info": {
   "codemirror_mode": {
    "name": "ipython",
    "version": 3
   },
   "file_extension": ".py",
   "mimetype": "text/x-python",
   "name": "python",
   "nbconvert_exporter": "python",
   "pygments_lexer": "ipython3",
   "version": "3.7.4"
  }
 },
 "nbformat": 4,
 "nbformat_minor": 5
}
